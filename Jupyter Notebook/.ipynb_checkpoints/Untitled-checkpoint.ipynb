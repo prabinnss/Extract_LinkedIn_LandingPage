{
 "cells": [
  {
   "cell_type": "code",
   "execution_count": 5,
   "id": "00597488",
   "metadata": {},
   "outputs": [],
   "source": [
    "from selenium import webdriver\n",
    "import pandas as pd\n",
    "import numpy as np\n",
    "from selenium.webdriver.support.ui import WebDriverWait\n",
    "from selenium.webdriver.common.by import By\n",
    "from selenium.webdriver.support import expected_conditions as EC\n",
    "\n",
    "import itertools\n",
    "import time\n",
    "import openpyxl\n",
    "from openpyxl import load_workbook\n",
    "from openpyxl.worksheet.hyperlink import Hyperlink"
   ]
  },
  {
   "cell_type": "code",
   "execution_count": 8,
   "id": "8ca67d83",
   "metadata": {},
   "outputs": [],
   "source": [
    "def LinkedIn_Search(person_name):\n",
    "    driver = webdriver.Chrome('/Users/Prabin/Repository/LinkdIn Scrapping/Jupyter Notebook/chromedriver')\n",
    "    google_url = 'https://www.google.com/'\n",
    "    driver.get(google_url)\n",
    "    time.sleep(5)\n",
    "    WebDriverWait(driver, 60).until(EC.element_to_be_clickable((By.NAME, 'q')))\n",
    "    search_query = f'CPA {person_name} LinkedIn Profile Virginia USA'\n",
    "    search_box = driver.find_element(By.NAME, 'q')\n",
    "    search_box.send_keys(search_query)\n",
    "    search_box.submit()\n",
    "    time.sleep(5)\n",
    "    try:\n",
    "        WebDriverWait(driver, 60).until(EC.presence_of_element_located((By.XPATH, '//a[contains(@href, \"linkedin.com/in/\")]')))\n",
    "        linkedin_link = driver.find_element(By.XPATH, '//a[contains(@href, \"linkedin.com/in/\")]').get_attribute('href')\n",
    "        landing_page=(linkedin_link)\n",
    "        return landing_page\n",
    "    except Exception as e:\n",
    "        print(\"LinkedIn profile not found or search results took too long to load.\")\n",
    "        linkedin_link = None\n",
    "        return None\n",
    "\n",
    "        # Closing the browser\n",
    "    print(landing_page)\n",
    "    driver.quit()\n",
    "    "
   ]
  },
  {
   "cell_type": "code",
   "execution_count": 9,
   "id": "7448fbb8",
   "metadata": {
    "scrolled": true
   },
   "outputs": [],
   "source": [
    "excel_file_path=''\n",
    "def update_excel_with_linkedin_links(excel_file):\n",
    "    # Load Excel file\n",
    "    pd_xl_file = pd.ExcelFile(excel_file_path)\n",
    "    \n",
    "    # Assuming the sheet is named 'Sheet1' (you can adjust this if necessary)\n",
    "    df = pd_xl_file.parse('Sheet1')\n",
    "    \n",
    "    # Assuming 'Person Name' is in the first column (index 0)\n",
    "    person_names = df.iloc[:, 0]\n",
    "    \n",
    "    # Create an empty list to hold LinkedIn URLs\n",
    "    linkedin_urls = []\n",
    "    \n",
    "    # Loop over each person and get their LinkedIn profile\n",
    "    for person_name in person_names:\n",
    "        print(f'Searching for LinkedIn profile of {person_name}')\n",
    "        linkedin_url = LinkedIn_Search(person_name)\n",
    "        if linkedin_url:\n",
    "            print(f'Found LinkedIn URL: {linkedin_url}')\n",
    "        else:\n",
    "            print(f'No LinkedIn URL found for {person_name}')\n",
    "        linkedin_urls.append(linkedin_url)\n",
    "    \n",
    "        # Load the existing workbook and the specific sheet you want to update\n",
    "        workbook = load_workbook(excel_file_path)\n",
    "        sheet = workbook.active\n",
    "\n",
    "        # Assuming LinkedIn URLs should be written in column 2 (B)\n",
    "        for row_num, linkedin_url in enumerate(linkedin_urls, start=2):  # Assuming the first row is header\n",
    "            sheet.cell(row=row_num, column=2).hyperlink=linkedin_url\n",
    "\n",
    "        # Save the updated Excel file\n",
    "        workbook.save(excel_file_path)\n",
    "        print('Excel file updated with LinkedIn URLs.')\n",
    "\n"
   ]
  },
  {
   "cell_type": "code",
   "execution_count": 10,
   "id": "68503528",
   "metadata": {},
   "outputs": [
    {
     "name": "stdout",
     "output_type": "stream",
     "text": [
      "Searching for LinkedIn profile of Pouya Hojjat\n",
      "Found LinkedIn URL: https://www.linkedin.com/in/pouya-hojjat\n",
      "Searching for LinkedIn profile of PRADEEP K SAHAJWALLA\n"
     ]
    },
    {
     "ename": "KeyboardInterrupt",
     "evalue": "",
     "output_type": "error",
     "traceback": [
      "\u001b[0;31m---------------------------------------------------------------------------\u001b[0m",
      "\u001b[0;31mKeyboardInterrupt\u001b[0m                         Traceback (most recent call last)",
      "\u001b[0;32m<ipython-input-10-149ebeeb8cfe>\u001b[0m in \u001b[0;36m<module>\u001b[0;34m\u001b[0m\n\u001b[1;32m      3\u001b[0m \u001b[0;34m\u001b[0m\u001b[0m\n\u001b[1;32m      4\u001b[0m \u001b[0;31m# update the Excel file\u001b[0m\u001b[0;34m\u001b[0m\u001b[0;34m\u001b[0m\u001b[0;34m\u001b[0m\u001b[0m\n\u001b[0;32m----> 5\u001b[0;31m \u001b[0mupdate_excel_with_linkedin_links\u001b[0m\u001b[0;34m(\u001b[0m\u001b[0mexcel_file_path\u001b[0m\u001b[0;34m)\u001b[0m\u001b[0;34m\u001b[0m\u001b[0;34m\u001b[0m\u001b[0m\n\u001b[0m",
      "\u001b[0;32m<ipython-input-9-c142db06c79f>\u001b[0m in \u001b[0;36mupdate_excel_with_linkedin_links\u001b[0;34m(excel_file)\u001b[0m\n\u001b[1;32m     16\u001b[0m     \u001b[0;32mfor\u001b[0m \u001b[0mperson_name\u001b[0m \u001b[0;32min\u001b[0m \u001b[0mperson_names\u001b[0m\u001b[0;34m:\u001b[0m\u001b[0;34m\u001b[0m\u001b[0;34m\u001b[0m\u001b[0m\n\u001b[1;32m     17\u001b[0m         \u001b[0mprint\u001b[0m\u001b[0;34m(\u001b[0m\u001b[0;34mf'Searching for LinkedIn profile of {person_name}'\u001b[0m\u001b[0;34m)\u001b[0m\u001b[0;34m\u001b[0m\u001b[0;34m\u001b[0m\u001b[0m\n\u001b[0;32m---> 18\u001b[0;31m         \u001b[0mlinkedin_url\u001b[0m \u001b[0;34m=\u001b[0m \u001b[0mLinkedIn_Search\u001b[0m\u001b[0;34m(\u001b[0m\u001b[0mperson_name\u001b[0m\u001b[0;34m)\u001b[0m\u001b[0;34m\u001b[0m\u001b[0;34m\u001b[0m\u001b[0m\n\u001b[0m\u001b[1;32m     19\u001b[0m         \u001b[0;32mif\u001b[0m \u001b[0mlinkedin_url\u001b[0m\u001b[0;34m:\u001b[0m\u001b[0;34m\u001b[0m\u001b[0;34m\u001b[0m\u001b[0m\n\u001b[1;32m     20\u001b[0m             \u001b[0mprint\u001b[0m\u001b[0;34m(\u001b[0m\u001b[0;34mf'Found LinkedIn URL: {linkedin_url}'\u001b[0m\u001b[0;34m)\u001b[0m\u001b[0;34m\u001b[0m\u001b[0;34m\u001b[0m\u001b[0m\n",
      "\u001b[0;32m<ipython-input-8-91f625f7850b>\u001b[0m in \u001b[0;36mLinkedIn_Search\u001b[0;34m(person_name)\u001b[0m\n\u001b[1;32m      3\u001b[0m     \u001b[0mgoogle_url\u001b[0m \u001b[0;34m=\u001b[0m \u001b[0;34m'https://www.google.com/'\u001b[0m\u001b[0;34m\u001b[0m\u001b[0;34m\u001b[0m\u001b[0m\n\u001b[1;32m      4\u001b[0m     \u001b[0mdriver\u001b[0m\u001b[0;34m.\u001b[0m\u001b[0mget\u001b[0m\u001b[0;34m(\u001b[0m\u001b[0mgoogle_url\u001b[0m\u001b[0;34m)\u001b[0m\u001b[0;34m\u001b[0m\u001b[0;34m\u001b[0m\u001b[0m\n\u001b[0;32m----> 5\u001b[0;31m     \u001b[0mtime\u001b[0m\u001b[0;34m.\u001b[0m\u001b[0msleep\u001b[0m\u001b[0;34m(\u001b[0m\u001b[0;36m5\u001b[0m\u001b[0;34m)\u001b[0m\u001b[0;34m\u001b[0m\u001b[0;34m\u001b[0m\u001b[0m\n\u001b[0m\u001b[1;32m      6\u001b[0m     \u001b[0mWebDriverWait\u001b[0m\u001b[0;34m(\u001b[0m\u001b[0mdriver\u001b[0m\u001b[0;34m,\u001b[0m \u001b[0;36m60\u001b[0m\u001b[0;34m)\u001b[0m\u001b[0;34m.\u001b[0m\u001b[0muntil\u001b[0m\u001b[0;34m(\u001b[0m\u001b[0mEC\u001b[0m\u001b[0;34m.\u001b[0m\u001b[0melement_to_be_clickable\u001b[0m\u001b[0;34m(\u001b[0m\u001b[0;34m(\u001b[0m\u001b[0mBy\u001b[0m\u001b[0;34m.\u001b[0m\u001b[0mNAME\u001b[0m\u001b[0;34m,\u001b[0m \u001b[0;34m'q'\u001b[0m\u001b[0;34m)\u001b[0m\u001b[0;34m)\u001b[0m\u001b[0;34m)\u001b[0m\u001b[0;34m\u001b[0m\u001b[0;34m\u001b[0m\u001b[0m\n\u001b[1;32m      7\u001b[0m     \u001b[0msearch_query\u001b[0m \u001b[0;34m=\u001b[0m \u001b[0;34mf'CPA {person_name} LinkedIn Profile Virginia USA'\u001b[0m\u001b[0;34m\u001b[0m\u001b[0;34m\u001b[0m\u001b[0m\n",
      "\u001b[0;31mKeyboardInterrupt\u001b[0m: "
     ]
    }
   ],
   "source": [
    "\n",
    "# File path to the Excel file\n",
    "excel_file_path = \"/Users/Prabin/Repository/LinkdIn Scrapping/Excel Files/CPA List.xlsx\"\n",
    "\n",
    "# update the Excel file\n",
    "update_excel_with_linkedin_links(excel_file_path)\n"
   ]
  },
  {
   "cell_type": "code",
   "execution_count": null,
   "id": "1f86fa24",
   "metadata": {},
   "outputs": [],
   "source": []
  }
 ],
 "metadata": {
  "kernelspec": {
   "display_name": "Python 3",
   "language": "python",
   "name": "python3"
  },
  "language_info": {
   "codemirror_mode": {
    "name": "ipython",
    "version": 3
   },
   "file_extension": ".py",
   "mimetype": "text/x-python",
   "name": "python",
   "nbconvert_exporter": "python",
   "pygments_lexer": "ipython3",
   "version": "3.8.8"
  }
 },
 "nbformat": 4,
 "nbformat_minor": 5
}
