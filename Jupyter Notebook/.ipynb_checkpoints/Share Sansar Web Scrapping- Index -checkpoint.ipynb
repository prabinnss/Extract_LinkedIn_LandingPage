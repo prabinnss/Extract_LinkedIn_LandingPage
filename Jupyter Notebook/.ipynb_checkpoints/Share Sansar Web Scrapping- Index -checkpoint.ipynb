{
 "cells": [
  {
   "cell_type": "code",
   "execution_count": 2,
   "metadata": {},
   "outputs": [],
   "source": [
    "from selenium import webdriver\n",
    "import pandas as pd\n",
    "import numpy as np\n",
    "from selenium.webdriver.support.ui import WebDriverWait\n",
    "from selenium.webdriver.common.by import By\n",
    "from selenium.webdriver.support import expected_conditions as EC\n",
    "from selenium.webdriver.common.keys import Keys\n",
    "import itertools\n",
    "from datetime import date\n",
    "import time\n",
    "import csv"
   ]
  },
  {
   "cell_type": "code",
   "execution_count": 6,
   "metadata": {
    "scrolled": false
   },
   "outputs": [],
   "source": [
    "\n",
    "def Index_Extractor(index_name,stop_seconds,Start_Date,End_Date):\n",
    "#Parameters: index_name: index_name short form in lowercase\n",
    "#           stop_seconds: gives no of second to perform on each operation . Increase if any error \n",
    "#           stop_seconds: gives no of second to perform on each operation . Increase if any error\n",
    "#           Start_Date:Initial date for extracting format: YYYY-MM-DD\n",
    "#           End_Date:End date for extracting format: YYYY-MM-DD\n",
    "#Returns: Index_Data: pandas dataframe for index data extracted\n",
    "\n",
    "\n",
    "\n",
    "#Note:You may have to change the location_of_driver of your driver \n",
    "\n",
    "    location_of_driver='/Users/Prabin/Repository/WebScrapping/Jupyter Notebook/chromedriver'\n",
    "    driver=webdriver.Chrome(location_of_driver)\n",
    "    url='https://www.sharesansar.com/indices-sub-indices'\n",
    "    driver.get(url)\n",
    "\n",
    "    # Giving loading time to site\n",
    "    time.sleep(3)\n",
    "    WebDriverWait(driver, 60).until(EC.presence_of_element_located((By.XPATH,'//*[@id=\"indices_subindices\"]/div/div/table/thead/tr')))\n",
    "\n",
    "    # Doing Step By Step Process until data is displayed\n",
    "    driver.find_element_by_xpath('//*[@id=\"select2-sector-container\"]').click()\n",
    "    driver.find_element_by_xpath('/html/body/span/span/span[1]/input').send_keys('Mutual Fund')\n",
    "    driver.find_element_by_xpath('/html/body/span/span/span[1]/input').send_keys(Keys.ENTER)\n",
    "    time.sleep(stop_seconds)\n",
    "    driver.find_element_by_xpath('//*[@id=\"start\"]').clear()\n",
    "    driver.find_element_by_xpath('//*[@id=\"start\"]').send_keys(Start_Date)\n",
    "    driver.find_element_by_xpath('//*[@id=\"start\"]').send_keys(Keys.ENTER)\n",
    "    time.sleep(stop_seconds)\n",
    "    driver.find_element_by_xpath('//*[@id=\"end\"]').clear()\n",
    "    driver.find_element_by_xpath('//*[@id=\"end\"]').send_keys(End_Date)\n",
    "    driver.find_element_by_xpath('//*[@id=\"end\"]').send_keys(Keys.ENTER)\n",
    "    driver.find_element_by_xpath('//*[@id=\"search1\"]').click()\n",
    "    WebDriverWait(driver, 60).until(EC.presence_of_element_located((By.XPATH,'//*[@id=\"indices_subindices\"]/div/div/table/tbody/tr')))\n",
    "    time.sleep(stop_seconds)\n",
    "\n",
    "\n",
    "    Index_Data=[]\n",
    "\n",
    "    row_info=driver.find_elements_by_xpath('//*[@id=\"indices_subindices\"]/div/div/table/tbody/tr')\n",
    "    no_of_rows_extracted=len(row_info)\n",
    "\n",
    "    print('No of rows to extract: '+str(no_of_rows_extracted))\n",
    "    print(\"\")\n",
    "    print('Extracting Index: '+str(index_name))\n",
    "    print(\"\")\n",
    "\n",
    "    # Extracting data.Note: You can also use for i in len(row_info):\n",
    "    i=1\n",
    "    for row in row_info:\n",
    "\n",
    "        Date_AD=row.find_element_by_xpath('//*[@id=\"indices_subindices\"]/div/div/table/tbody/tr['+str(i)+']/td[7]').text\n",
    "        index_value=row.find_element_by_xpath('//*[@id=\"indices_subindices\"]/div/div/table/tbody/tr['+str(i)+']/td[3]').text\n",
    "        Index_Item={\n",
    "            'Date(AD)':Date_AD,\n",
    "            'Index':index_value\n",
    "        }\n",
    "        Index_Data.append(Index_Item)\n",
    "        i+=1\n",
    "\n",
    "    Index_Data=pd.DataFrame(Index_Data)\n",
    "    driver.quit()\n",
    "\n",
    "    return Index_Data\n"
   ]
  },
  {
   "cell_type": "code",
   "execution_count": 16,
   "metadata": {},
   "outputs": [],
   "source": [
    "def Index_History_Dataframe_to_CSV(Index_History,index_name):\n",
    "    #Index_History:pandas dataframe to save to csv\n",
    "    #index_name:Name of index extracted\n",
    "    #this function saves data to specifice location provided below\n",
    "    Index_History.to_csv(r'/Users/Prabin/Repository/WebScrapping/CSV Fie/Index '+str(index_name)+'.csv')"
   ]
  },
  {
   "cell_type": "code",
   "execution_count": 14,
   "metadata": {},
   "outputs": [
    {
     "name": "stdout",
     "output_type": "stream",
     "text": [
      "No of rows to extract: 459\n",
      "\n",
      "Extracting Values\n",
      "\n"
     ]
    }
   ],
   "source": [
    "#To extract one by one\n",
    "Index_Names='Mutual Fund'\n",
    "Start_Date='2015-01,01'\n",
    "End_Date='2021-06-29'\n",
    "Stop_Seconds=2\n",
    "Index_History=Index_Extractor(Index_Name,Stop_Seconds,Start_Date,End_Date)\n",
    "Index_History_Dataframe_to_CSV(Index_History,Index_Name)"
   ]
  },
  {
   "cell_type": "code",
   "execution_count": null,
   "metadata": {},
   "outputs": [
    {
     "name": "stdout",
     "output_type": "stream",
     "text": [
      "No of rows to extract: 460\n",
      "\n",
      "Extracting Values\n",
      "\n",
      "No of rows to extract: 460\n",
      "\n",
      "Extracting Values\n",
      "\n"
     ]
    }
   ],
   "source": [
    "# To extract at once\n",
    "Index_Names=['NEPSE Index',\n",
    "             'Sensitive Index',\n",
    "             'Float Index',\n",
    "             'Sensitive Float Index',\n",
    "             'Banking SubIndex',\n",
    "             'Development Bank Index',\n",
    "             'Finance Index',\n",
    "             'Hotels And Tourism',\n",
    "             'HydroPower Index',\n",
    "             'Investment',\n",
    "             'Life Insurance',\n",
    "             'Manufacturing And Processing',\n",
    "             'Microfinance Index',\n",
    "             'Mutual Fund',\n",
    "             'Non Life Insurance'\n",
    "             ,'Others Index','Trading Index']\n",
    "for Index_Name in Index_Names:\n",
    "    Start_Date='2015-01,01'\n",
    "    End_Date='2021-06-29'\n",
    "    Stop_Seconds=2\n",
    "    Index_History=Index_Extractor(Index_Name,Stop_Seconds,Start_Date,End_Date)\n",
    "    Index_History_Dataframe_to_CSV(Index_History,Index_Name)\n",
    "\n"
   ]
  },
  {
   "cell_type": "code",
   "execution_count": null,
   "metadata": {},
   "outputs": [],
   "source": []
  }
 ],
 "metadata": {
  "kernelspec": {
   "display_name": "Python 3",
   "language": "python",
   "name": "python3"
  },
  "language_info": {
   "codemirror_mode": {
    "name": "ipython",
    "version": 3
   },
   "file_extension": ".py",
   "mimetype": "text/x-python",
   "name": "python",
   "nbconvert_exporter": "python",
   "pygments_lexer": "ipython3",
   "version": "3.8.8"
  }
 },
 "nbformat": 4,
 "nbformat_minor": 4
}
