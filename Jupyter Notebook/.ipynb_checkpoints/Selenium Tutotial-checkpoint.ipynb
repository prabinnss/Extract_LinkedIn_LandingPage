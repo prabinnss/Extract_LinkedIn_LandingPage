{
 "cells": [
  {
   "cell_type": "code",
   "execution_count": 12,
   "metadata": {},
   "outputs": [],
   "source": [
    "from selenium import webdriver\n",
    "from selenium.webdriver.common.keys import Keys # insert keys on site\n",
    "import pandas as pd"
   ]
  },
  {
   "cell_type": "markdown",
   "metadata": {},
   "source": [
    "Problem 1:Login to ICAN student login"
   ]
  },
  {
   "cell_type": "code",
   "execution_count": null,
   "metadata": {},
   "outputs": [],
   "source": [
    "driver=webdriver.Chrome('/Users/Prabin/Web Scrapping/chromedriver')"
   ]
  },
  {
   "cell_type": "code",
   "execution_count": null,
   "metadata": {},
   "outputs": [],
   "source": [
    "url='https://en.ican.org.np/student'"
   ]
  },
  {
   "cell_type": "code",
   "execution_count": null,
   "metadata": {},
   "outputs": [],
   "source": [
    "driver.get(url)"
   ]
  },
  {
   "cell_type": "code",
   "execution_count": null,
   "metadata": {},
   "outputs": [],
   "source": [
    "driver.find_element_by_xpath('//*[@id=\"username\"]').send_keys('FN001402')\n",
    "driver.find_element_by_xpath('//*[@id=\"blue-btn\"]').click()\n",
    "driver.find_element_by_xpath('//*[@id=\"password\"]').send_keys('Rocks123##')\n",
    "driver.find_element_by_xpath('//*[@id=\"blue-btn\"]').click()"
   ]
  },
  {
   "cell_type": "markdown",
   "metadata": {},
   "source": [
    "Problem 2: Extract Video Detail from youtube "
   ]
  },
  {
   "cell_type": "code",
   "execution_count": 25,
   "metadata": {},
   "outputs": [
    {
     "name": "stdout",
     "output_type": "stream",
     "text": [
      "Extracting Unique Values from the list in Microsoft Excel | Mac | Windows I 12 views\n",
      "Simple Way of Using Macros in Excel 17 views\n"
     ]
    }
   ],
   "source": [
    "driver=webdriver.Chrome('/Users/Prabin/Web Scrapping/chromedriver')\n",
    "url='https://www.youtube.com/channel/UCDVlAZ_2TisS37vWLmSiKMA/videos'\n",
    "driver.get(url)\n",
    "videos=driver.find_elements_by_class_name('style-scope ytd-grid-video-renderer')\n",
    "\n",
    "video_list=[]\n",
    "\n",
    "for video in videos:\n",
    "    title=video.find_element_by_xpath('.//*[@id=\"video-title\"]').text #dot is inseted which helps to search within the element but not whole page\n",
    "    views=video.find_element_by_xpath('.//*[@id=\"metadata-line\"]/span[1]').text\n",
    "    print(title,views)\n",
    "    vid_item={\n",
    "        'Title':title,\n",
    "        'Views':views\n",
    "        \n",
    "    }\n",
    "    video_list.append(vid_item)\n",
    "    \n",
    "driver.quit()\n",
    "    "
   ]
  },
  {
   "cell_type": "code",
   "execution_count": 24,
   "metadata": {},
   "outputs": [
    {
     "name": "stdout",
     "output_type": "stream",
     "text": [
      "                                               Title     Views\n",
      "0  Extracting Unique Values from the list in Micr...  12 views\n",
      "1                Simple Way of Using Macros in Excel  17 views\n"
     ]
    }
   ],
   "source": [
    "df=pd.DataFrame(video_list)\n",
    "print(df)"
   ]
  },
  {
   "cell_type": "code",
   "execution_count": 10,
   "metadata": {},
   "outputs": [],
   "source": []
  },
  {
   "cell_type": "code",
   "execution_count": null,
   "metadata": {},
   "outputs": [],
   "source": [
    "\n"
   ]
  },
  {
   "cell_type": "code",
   "execution_count": null,
   "metadata": {},
   "outputs": [],
   "source": []
  }
 ],
 "metadata": {
  "kernelspec": {
   "display_name": "Python 3",
   "language": "python",
   "name": "python3"
  },
  "language_info": {
   "codemirror_mode": {
    "name": "ipython",
    "version": 3
   },
   "file_extension": ".py",
   "mimetype": "text/x-python",
   "name": "python",
   "nbconvert_exporter": "python",
   "pygments_lexer": "ipython3",
   "version": "3.8.8"
  }
 },
 "nbformat": 4,
 "nbformat_minor": 4
}
