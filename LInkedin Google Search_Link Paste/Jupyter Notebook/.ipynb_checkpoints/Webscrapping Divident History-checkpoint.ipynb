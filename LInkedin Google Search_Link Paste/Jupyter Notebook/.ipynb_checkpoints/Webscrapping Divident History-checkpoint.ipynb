{
 "cells": [
  {
   "cell_type": "code",
   "execution_count": 1,
   "id": "a4d06a70",
   "metadata": {},
   "outputs": [],
   "source": [
    "from selenium import webdriver\n",
    "import pandas as pd\n",
    "import numpy as np\n",
    "from selenium.webdriver.support.ui import WebDriverWait\n",
    "from selenium.webdriver.common.by import By\n",
    "from selenium.webdriver.support import expected_conditions as EC\n",
    "import itertools\n",
    "import time\n",
    "import openpyxl\n",
    "import xlsxwriter"
   ]
  },
  {
   "cell_type": "code",
   "execution_count": 2,
   "id": "bab006cd",
   "metadata": {},
   "outputs": [],
   "source": [
    "def Price_History_Extract(company_name,stop_seconds):\n",
    "    #Parameters: company_name: company name short form\n",
    "    #           stop_seconds: time.sleep in each iteration in seconds. Increase if any error \n",
    "    #Returns: pricehistory_df as pandas dataframe\n",
    "    \n",
    "    \n",
    "    driver=webdriver.Chrome('/Users/Prabin/Repository/WebScrapping/Jupyter Notebook/chromedriver')\n",
    "    url='https://www.sharesansar.com/company/'+str(company_name.lower())\n",
    "    driver.get(url)\n",
    "    \n",
    "    # Giving loading time to site\n",
    "    time.sleep(2)\n",
    "    WebDriverWait(driver, 60).until(EC.element_to_be_clickable((By.XPATH,'//*[@id=\"btn_cdividend\"]'))).click()\n",
    "    WebDriverWait(driver, 60).until(EC.presence_of_element_located((By.XPATH,'//*[@id=\"myTableDiv\"]/thead/tr/th')))\n",
    "    time.sleep(2)\n",
    "\n",
    "    \n",
    "\n",
    "    \n",
    "    # For extracting Headings:\n",
    "    print('Extracting Heading: ')\n",
    "    columns=len(driver.find_elements_by_xpath('//*[@id=\"myTableDiv\"]/thead/tr[1]/th'))\n",
    "    print('Columns of heading :'+str(columns))\n",
    "    dividenthistory_heading=np.empty((1,columns),dtype=object)\n",
    "   \n",
    "    for h in range (1,columns+1):\n",
    "        dividenthistory_heading[0,h-1]=driver.find_element_by_xpath\\\n",
    "        ('//*[@id=\"myTableDiv\"]/thead/tr/th['+str(h)+']').text\n",
    "    print(\"Successfully Extracted\")\n",
    "    DividentHis=dividenthistory_heading\n",
    " \n",
    "\n",
    "\n",
    "    # determining rows and columns of each page & creating numpy array of such rows and columns\n",
    "    \n",
    "    rows=len(driver.find_elements_by_xpath('//*[@id=\"myTableDiv\"]/tbody/tr'))\n",
    "    columns=len(driver.find_elements_by_xpath('//*[@id=\"myTableDiv\"]/tbody/tr[1]/td'))\n",
    "    value=np.empty((rows,columns),dtype=object)\n",
    "    print('Extracting Data')\n",
    "    print('Rows to extract '+str(rows))\n",
    "    print('Columns to extract: '+str(columns))\n",
    "    print(\"\")\n",
    "    #copyting each rows and colums of each page to array:value\n",
    "    for r in range(1,rows+1):\n",
    "        for c in range(1,columns+1):\n",
    "            value[r-1,c-1]=driver.find_element_by_xpath('//*[@id=\"myTableDiv\"]/tbody/tr['+str(r)+']/td['+str(c)+']').text\n",
    "    print(\"Successfully Extracted\")\n",
    "    divident_history=np.concatenate((DividentHis,value))\n",
    "\n",
    "\n",
    "    #Changing array to pandas dataframe\n",
    "    DividentHistory_df=pd.DataFrame(divident_history)\n",
    "\n",
    "    print(\"\")\n",
    "    print(\"Shape of Merged PDivident History Data\",divident_history.shape)\n",
    "    print(\"\") \n",
    "\n",
    "    driver.quit()\n",
    "    \n",
    "    return DividentHistory_df\n",
    "\n"
   ]
  },
  {
   "cell_type": "code",
   "execution_count": 23,
   "id": "bb0db5b5",
   "metadata": {},
   "outputs": [
    {
     "data": {
      "text/html": [
       "<div>\n",
       "<style scoped>\n",
       "    .dataframe tbody tr th:only-of-type {\n",
       "        vertical-align: middle;\n",
       "    }\n",
       "\n",
       "    .dataframe tbody tr th {\n",
       "        vertical-align: top;\n",
       "    }\n",
       "\n",
       "    .dataframe thead th {\n",
       "        text-align: right;\n",
       "    }\n",
       "</style>\n",
       "<table border=\"1\" class=\"dataframe\">\n",
       "  <thead>\n",
       "    <tr style=\"text-align: right;\">\n",
       "      <th></th>\n",
       "    </tr>\n",
       "  </thead>\n",
       "  <tbody>\n",
       "  </tbody>\n",
       "</table>\n",
       "</div>"
      ],
      "text/plain": [
       "Empty DataFrame\n",
       "Columns: []\n",
       "Index: []"
      ]
     },
     "execution_count": 23,
     "metadata": {},
     "output_type": "execute_result"
    }
   ],
   "source": [
    "#Opening existing excel file\n",
    "pd.read_excel('/Users/Prabin/Repository/WebScrapping/Excel Files/Company Wise Detail/Development Banks/DividentHistory.xlsx')\n"
   ]
  },
  {
   "cell_type": "code",
   "execution_count": 24,
   "id": "0d5235c9",
   "metadata": {},
   "outputs": [
    {
     "data": {
      "text/html": [
       "<div>\n",
       "<style scoped>\n",
       "    .dataframe tbody tr th:only-of-type {\n",
       "        vertical-align: middle;\n",
       "    }\n",
       "\n",
       "    .dataframe tbody tr th {\n",
       "        vertical-align: top;\n",
       "    }\n",
       "\n",
       "    .dataframe thead th {\n",
       "        text-align: right;\n",
       "    }\n",
       "</style>\n",
       "<table border=\"1\" class=\"dataframe\">\n",
       "  <thead>\n",
       "    <tr style=\"text-align: right;\">\n",
       "      <th></th>\n",
       "    </tr>\n",
       "  </thead>\n",
       "  <tbody>\n",
       "  </tbody>\n",
       "</table>\n",
       "</div>"
      ],
      "text/plain": [
       "Empty DataFrame\n",
       "Columns: []\n",
       "Index: []"
      ]
     },
     "execution_count": 24,
     "metadata": {},
     "output_type": "execute_result"
    }
   ],
   "source": [
    "#Opening Specific Excel sheet in excel file \n",
    "pd.read_excel('/Users/Prabin/Repository/WebScrapping/Excel Files/Company Wise Detail/Development Banks/DividentHistory.xlsx',sheet_name='Divident History')"
   ]
  },
  {
   "cell_type": "code",
   "execution_count": 5,
   "id": "7a7c901d",
   "metadata": {},
   "outputs": [],
   "source": [
    "def Creating_Company_Excel_File_and_Price_History_Worksheet(Sector,Company):\n",
    "    workbook = xlsxwriter.Workbook('/Users/Prabin/Repository/WebScrapping/Excel Files/Company Wise Detail/'+str(Sector)+'/'+str(Company)+'.xlsx')\n",
    "    worksheet = workbook.add_worksheet('Divident History')\n",
    "    workbook.close()"
   ]
  },
  {
   "cell_type": "code",
   "execution_count": 6,
   "id": "07a04de2",
   "metadata": {},
   "outputs": [],
   "source": [
    "def Sector_Wise_PriceHistory_Extractor(Sector,stop_seconds):\n",
    "    #      Sectors=['Commercial Banks',\n",
    "#            'Development Banks',\n",
    "#             'Finance',\n",
    "#             'Hotels And Tourism',\n",
    "#             'Hydro Power',\n",
    "#             'Investment',\n",
    "#             'Life Insurance',\n",
    "#             'Manufacturing And Processing',\n",
    "#             'Microfinance',\n",
    "#             'Non Life Insurance',\n",
    "#             'Others',\n",
    "#             'Tradings']\n",
    "    pd_xl_file = pd.ExcelFile(\"/Users/Prabin/Repository/WebScrapping/Excel Files/Company Info.xlsm\")\n",
    "    df = pd_xl_file.parse(Sector)\n",
    "    Company_Symbol=df['Symbol ']\n",
    "    print('No of Company under'+str(Sector)+'Category: '+str(Company_Symbol.shape[0]))\n",
    "    for Company in Company_Symbol:\n",
    "        Creating_Company_Excel_File_and_Price_History_Worksheet(Sector,Company)\n",
    "        print('Now Extracting data of: '+str(Company))\n",
    "        Divident_History=Price_History_Extract(Company,stop_seconds)\n",
    "        Divident_History.to_excel('/Users/Prabin/Repository/WebScrapping/Excel Files/Company Wise Detail/'+str(Sector)+'/'+str(Company)+'.xlsx',sheet_name='Divident History',header=False,index=False)\n",
    "    "
   ]
  },
  {
   "cell_type": "code",
   "execution_count": 9,
   "id": "1719af17",
   "metadata": {},
   "outputs": [
    {
     "name": "stdout",
     "output_type": "stream",
     "text": [
      "No of Company underOthersCategory: 2\n",
      "Now Extracting data of: NTC\n",
      "Extracting Heading: \n",
      "Columns of heading :8\n",
      "Successfully Extracted\n",
      "Extracting Data\n",
      "Rows to extract 10\n",
      "Columns to extract: 8\n",
      "\n",
      "Successfully Extracted\n",
      "\n",
      "Shape of Merged PDivident History Data (11, 8)\n",
      "\n",
      "Now Extracting data of: NRIC\n",
      "Extracting Heading: \n",
      "Columns of heading :8\n",
      "Successfully Extracted\n",
      "Extracting Data\n",
      "Rows to extract 1\n",
      "Columns to extract: 8\n",
      "\n",
      "Successfully Extracted\n",
      "\n",
      "Shape of Merged PDivident History Data (2, 8)\n",
      "\n"
     ]
    }
   ],
   "source": [
    "Sector_Wise_PriceHistory_Extractor('Others',5)"
   ]
  },
  {
   "cell_type": "code",
   "execution_count": 12,
   "id": "963e3a4a",
   "metadata": {},
   "outputs": [],
   "source": []
  },
  {
   "cell_type": "code",
   "execution_count": 15,
   "id": "af5cdd41",
   "metadata": {},
   "outputs": [],
   "source": []
  },
  {
   "cell_type": "code",
   "execution_count": null,
   "id": "89d4228d",
   "metadata": {},
   "outputs": [],
   "source": []
  }
 ],
 "metadata": {
  "kernelspec": {
   "display_name": "Python 3",
   "language": "python",
   "name": "python3"
  },
  "language_info": {
   "codemirror_mode": {
    "name": "ipython",
    "version": 3
   },
   "file_extension": ".py",
   "mimetype": "text/x-python",
   "name": "python",
   "nbconvert_exporter": "python",
   "pygments_lexer": "ipython3",
   "version": "3.8.8"
  }
 },
 "nbformat": 4,
 "nbformat_minor": 5
}
