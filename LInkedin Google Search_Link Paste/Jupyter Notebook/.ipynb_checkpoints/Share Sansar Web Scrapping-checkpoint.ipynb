{
 "cells": [
  {
   "cell_type": "code",
   "execution_count": 9,
   "metadata": {},
   "outputs": [],
   "source": [
    "from selenium import webdriver\n",
    "import pandas as pd\n",
    "import numpy as np\n",
    "from selenium.webdriver.support.ui import WebDriverWait\n",
    "from selenium.webdriver.common.by import By\n",
    "from selenium.webdriver.support import expected_conditions as EC\n",
    "import itertools\n",
    "import time\n",
    "import openpyxl"
   ]
  },
  {
   "cell_type": "code",
   "execution_count": 10,
   "metadata": {
    "scrolled": false
   },
   "outputs": [],
   "source": [
    "\n",
    "\n",
    "def Price_History_Extract(company_name,stop_seconds):\n",
    "    #Parameters: company_name: company name short form\n",
    "    #           stop_seconds: time.sleep in each iteration in seconds. Increase if any error \n",
    "    #Returns: pricehistory_df as pandas dataframe\n",
    "    \n",
    "    \n",
    "    driver=webdriver.Chrome('/Users/Prabin/Repository/WebScrapping/Jupyter Notebook/')\n",
    "    url='https://www.sharesansar.com/company/'+str(company_name.lower())\n",
    "    driver.get(url)\n",
    "    \n",
    "    # Giving loading time to site\n",
    "    time.sleep(2)\n",
    "    WebDriverWait(driver, 60).until(EC.element_to_be_clickable((By.XPATH,'//*[@id=\"btn_cpricehistory\"]'))).click()\n",
    "    WebDriverWait(driver, 60).until(EC.presence_of_element_located((By.XPATH,'//*[@id=\"myTableCPriceHistory\"]/tbody/tr')))\n",
    "    driver.find_element_by_xpath('//*[@id=\"myTableCPriceHistory_length\"]/label/select/option[3]').click()\n",
    "    WebDriverWait(driver, 60).until(EC.presence_of_element_located((By.XPATH,'//*[@id=\"myTableCPriceHistory\"]/tbody/tr')))\n",
    "    time.sleep(2)\n",
    "    \n",
    "    # finding no of pages:\n",
    "    for i in range(10,0,-1):\n",
    "        try:\n",
    "            pages_number=driver.find_element_by_xpath('//*[@id=\"myTableCPriceHistory_paginate\"]/span/a['+str(i)+']').text\n",
    "        except Exception:\n",
    "            continue\n",
    "        else:\n",
    "            print('Number of pages to extract: '+str(pages_number))\n",
    "            break\n",
    "            \n",
    "    \n",
    "\n",
    "    \n",
    "    # For extracting Headings:\n",
    "    print('Extracting Heading: ')\n",
    "    columns=len(driver.find_elements_by_xpath('//*[@id=\"myTableCPriceHistory\"]/tbody/tr[1]/td'))\n",
    "    pricehistory_heading=np.empty((1,columns),dtype=object)\n",
    "   \n",
    "    for h in range (1,columns+1):\n",
    "        pricehistory_heading[0,h-1]=driver.find_element_by_xpath\\\n",
    "        ('//*[@id=\"myTableCPriceHistory\"]/thead/tr/th['+str(h)+']').text\n",
    "    print(\"Successfully Extracted\")\n",
    "    pricehistory=pricehistory_heading\n",
    "\n",
    "\n",
    "    #For asset checking:\n",
    "    no_of_total_rows=1 # heading   \n",
    "\n",
    "    for i in range(1,min(int(pages_number)+1,31)):\n",
    "        print(\"\")\n",
    "        print(\"Currently Extracting in Page:\"+str(i))\n",
    "\n",
    "        # determining rows and columns of each page & creating numpy array of such rows and columns\n",
    "        rows=len(driver.find_elements_by_xpath('//*[@id=\"myTableCPriceHistory\"]/tbody/tr'))\n",
    "        columns=len(driver.find_elements_by_xpath('//*[@id=\"myTableCPriceHistory\"]/tbody/tr[1]/td'))\n",
    "        value=np.empty((rows,columns),dtype=object)\n",
    "        print('Rows in current page: '+str(rows))\n",
    "        print('Columns in current page: '+str(columns))\n",
    "        print(\"\")\n",
    "        #copyting each rows and colums of each page to array:value\n",
    "        for r in range(1,rows+1):\n",
    "            for c in range(1,columns+1):\n",
    "                value[r-1,c-1]=driver.find_element_by_xpath('//*[@id=\"myTableCPriceHistory\"]/tbody/tr['+str(r)+']/td['+str(c)+']').text\n",
    "        print(\"Successfully Extracted\")\n",
    "        pricehistory=np.concatenate((pricehistory,value))\n",
    "        #For assert checking\n",
    "        no_of_total_rows=no_of_total_rows+rows\n",
    "        no_of_columns=columns\n",
    "        \n",
    "        #clicking next page \n",
    "        if i!=(min(int(pages_number)+1,31)-1):\n",
    "            WebDriverWait(driver,60).until(EC.element_to_be_clickable((By.XPATH,'//*[@id=\"myTableCPriceHistory_next\"]'))).click()\n",
    "            time.sleep(stop_seconds)  # stops everything for seconds\n",
    "\n",
    "\n",
    "    assert pricehistory.shape[1]==no_of_columns\n",
    "    assert pricehistory.shape[0]==no_of_total_rows\n",
    "\n",
    "    #Changing array to pandas dataframe\n",
    "    pricehistory_df=pd.DataFrame(pricehistory)\n",
    "\n",
    "    print(\"\")\n",
    "    print(\"Shape of Merged PriceHistory Data\",pricehistory.shape)\n",
    "    print(\"\") \n",
    "    print(\"Merged PriceHistory Data\")\n",
    "    #print(pricehistory_df)\n",
    "\n",
    "\n",
    "    driver.quit()\n",
    "    \n",
    "    return pricehistory_df\n",
    "\n",
    "\n"
   ]
  },
  {
   "cell_type": "code",
   "execution_count": 11,
   "metadata": {},
   "outputs": [],
   "source": [
    "def SharePrice_History_Dataframe_to_CSV(Price_History,company_name,Sector):\n",
    "#      Sectors=['Commercial Banks',\n",
    "#            'Development Banks',\n",
    "#             'Finance',\n",
    "#             'Hotels And Tourism',\n",
    "#             'Hydro Power',\n",
    "#             'Investment',\n",
    "#             'Life Insurance',\n",
    "#             'Manufacturing And Processing',\n",
    "#             'Microfinance',\n",
    "#             'Non Life Insurance',\n",
    "#             'Others',\n",
    "#             'Tradings']\n",
    "    #Price_History:pandas dataframe to save to csv\n",
    "    #company:company name\n",
    "    #this function saves data to specific location provided below\n",
    "    Price_History.to_csv(r'/Users/Prabin/Repository/WebScrapping/CSV Fie/Share Price History/'+str(Sector)+'/SharePrice '+str(company_name.upper())+'.csv')"
   ]
  },
  {
   "cell_type": "code",
   "execution_count": 12,
   "metadata": {},
   "outputs": [],
   "source": [
    "# To extract data of one sector\n",
    "def All_company_of_sector_extractor(Sector,stop_seconds):\n",
    "#Sectors=['Commercial Banks',\n",
    "#            'Development Banks',\n",
    "#             'Finance',\n",
    "#             'Hotels And Tourism',\n",
    "#             'Hydro Power',\n",
    "#             'Investment',\n",
    "#             'Life Insurance',\n",
    "#             'Manufacturing And Processing',\n",
    "#             'Microfinance',\n",
    "#             'Non Life Insurance',\n",
    "#             'Others',\n",
    "#             'Tradings']\n",
    "#\n",
    "#stop_seconds:time to stop in seconds\n",
    "#Saves all company of a sector as csv\n",
    "\n",
    "    pd_xl_file = pd.ExcelFile(\"/Users/Prabin/Repository/WebScrapping/Excel Files/Company Info.xlsm\")\n",
    "    df = pd_xl_file.parse(Sector)\n",
    "    Company_Symbol=df['Symbol ']\n",
    "    print('No of Company under'+str(Sector)+'Category: '+str(Company_Symbol.shape[0]))\n",
    "    for Company in Company_Symbol:\n",
    "        print('Now Extracting data of: '+str(Company))\n",
    "        Price_History=Price_History_Extract(Company,stop_seconds)\n",
    "        SharePrice_History_Dataframe_to_CSV(Price_History,Company,Sector)\n",
    "    \n",
    "\n"
   ]
  },
  {
   "cell_type": "code",
   "execution_count": 13,
   "metadata": {},
   "outputs": [
    {
     "data": {
      "text/plain": [
       "\"\\nSector='Development Banks'\\ncompany_name='men'\\nstop_seconds=2\\nPrice_History=Price_History_Extract(company_name,stop_seconds)\\nSharePrice_History_Dataframe_to_CSV(Price_History,company_name,Sector)\\n\""
      ]
     },
     "execution_count": 13,
     "metadata": {},
     "output_type": "execute_result"
    }
   ],
   "source": [
    "#To extract one by one\n",
    "'''\n",
    "Sector='Development Banks'\n",
    "company_name='men'\n",
    "stop_seconds=2\n",
    "Price_History=Price_History_Extract(company_name,stop_seconds)\n",
    "SharePrice_History_Dataframe_to_CSV(Price_History,company_name,Sector)\n",
    "'''"
   ]
  },
  {
   "cell_type": "code",
   "execution_count": 14,
   "metadata": {
    "scrolled": false
   },
   "outputs": [
    {
     "name": "stdout",
     "output_type": "stream",
     "text": [
      "No of Company underTradingsCategory: 2\n",
      "Now Extracting data of: STC\n"
     ]
    },
    {
     "ename": "SessionNotCreatedException",
     "evalue": "Message: session not created: This version of ChromeDriver only supports Chrome version 91\nCurrent browser version is 129.0.6668.71 with binary path /Applications/Google Chrome.app/Contents/MacOS/Google Chrome\n",
     "output_type": "error",
     "traceback": [
      "\u001b[0;31m---------------------------------------------------------------------------\u001b[0m",
      "\u001b[0;31mSessionNotCreatedException\u001b[0m                Traceback (most recent call last)",
      "\u001b[0;32m<ipython-input-14-9c476b1dec9b>\u001b[0m in \u001b[0;36m<module>\u001b[0;34m\u001b[0m\n\u001b[0;32m----> 1\u001b[0;31m \u001b[0mAll_company_of_sector_extractor\u001b[0m\u001b[0;34m(\u001b[0m\u001b[0;34m'Tradings'\u001b[0m\u001b[0;34m,\u001b[0m\u001b[0;36m5\u001b[0m\u001b[0;34m)\u001b[0m\u001b[0;34m\u001b[0m\u001b[0;34m\u001b[0m\u001b[0m\n\u001b[0m\u001b[1;32m      2\u001b[0m \u001b[0;34m\u001b[0m\u001b[0m\n",
      "\u001b[0;32m<ipython-input-12-34da5763d135>\u001b[0m in \u001b[0;36mAll_company_of_sector_extractor\u001b[0;34m(Sector, stop_seconds)\u001b[0m\n\u001b[1;32m     23\u001b[0m     \u001b[0;32mfor\u001b[0m \u001b[0mCompany\u001b[0m \u001b[0;32min\u001b[0m \u001b[0mCompany_Symbol\u001b[0m\u001b[0;34m:\u001b[0m\u001b[0;34m\u001b[0m\u001b[0;34m\u001b[0m\u001b[0m\n\u001b[1;32m     24\u001b[0m         \u001b[0mprint\u001b[0m\u001b[0;34m(\u001b[0m\u001b[0;34m'Now Extracting data of: '\u001b[0m\u001b[0;34m+\u001b[0m\u001b[0mstr\u001b[0m\u001b[0;34m(\u001b[0m\u001b[0mCompany\u001b[0m\u001b[0;34m)\u001b[0m\u001b[0;34m)\u001b[0m\u001b[0;34m\u001b[0m\u001b[0;34m\u001b[0m\u001b[0m\n\u001b[0;32m---> 25\u001b[0;31m         \u001b[0mPrice_History\u001b[0m\u001b[0;34m=\u001b[0m\u001b[0mPrice_History_Extract\u001b[0m\u001b[0;34m(\u001b[0m\u001b[0mCompany\u001b[0m\u001b[0;34m,\u001b[0m\u001b[0mstop_seconds\u001b[0m\u001b[0;34m)\u001b[0m\u001b[0;34m\u001b[0m\u001b[0;34m\u001b[0m\u001b[0m\n\u001b[0m\u001b[1;32m     26\u001b[0m         \u001b[0mSharePrice_History_Dataframe_to_CSV\u001b[0m\u001b[0;34m(\u001b[0m\u001b[0mPrice_History\u001b[0m\u001b[0;34m,\u001b[0m\u001b[0mCompany\u001b[0m\u001b[0;34m,\u001b[0m\u001b[0mSector\u001b[0m\u001b[0;34m)\u001b[0m\u001b[0;34m\u001b[0m\u001b[0;34m\u001b[0m\u001b[0m\n\u001b[1;32m     27\u001b[0m \u001b[0;34m\u001b[0m\u001b[0m\n",
      "\u001b[0;32m<ipython-input-10-2eeea6a8f40d>\u001b[0m in \u001b[0;36mPrice_History_Extract\u001b[0;34m(company_name, stop_seconds)\u001b[0m\n\u001b[1;32m      5\u001b[0m \u001b[0;34m\u001b[0m\u001b[0m\n\u001b[1;32m      6\u001b[0m \u001b[0;34m\u001b[0m\u001b[0m\n\u001b[0;32m----> 7\u001b[0;31m     \u001b[0mdriver\u001b[0m\u001b[0;34m=\u001b[0m\u001b[0mwebdriver\u001b[0m\u001b[0;34m.\u001b[0m\u001b[0mChrome\u001b[0m\u001b[0;34m(\u001b[0m\u001b[0;34m'/Users/Prabin/Repository/WebScrapping/Jupyter Notebook/chromedriver'\u001b[0m\u001b[0;34m)\u001b[0m\u001b[0;34m\u001b[0m\u001b[0;34m\u001b[0m\u001b[0m\n\u001b[0m\u001b[1;32m      8\u001b[0m     \u001b[0murl\u001b[0m\u001b[0;34m=\u001b[0m\u001b[0;34m'https://www.sharesansar.com/company/'\u001b[0m\u001b[0;34m+\u001b[0m\u001b[0mstr\u001b[0m\u001b[0;34m(\u001b[0m\u001b[0mcompany_name\u001b[0m\u001b[0;34m.\u001b[0m\u001b[0mlower\u001b[0m\u001b[0;34m(\u001b[0m\u001b[0;34m)\u001b[0m\u001b[0;34m)\u001b[0m\u001b[0;34m\u001b[0m\u001b[0;34m\u001b[0m\u001b[0m\n\u001b[1;32m      9\u001b[0m     \u001b[0mdriver\u001b[0m\u001b[0;34m.\u001b[0m\u001b[0mget\u001b[0m\u001b[0;34m(\u001b[0m\u001b[0murl\u001b[0m\u001b[0;34m)\u001b[0m\u001b[0;34m\u001b[0m\u001b[0;34m\u001b[0m\u001b[0m\n",
      "\u001b[0;32m~/opt/anaconda3/lib/python3.8/site-packages/selenium/webdriver/chrome/webdriver.py\u001b[0m in \u001b[0;36m__init__\u001b[0;34m(self, executable_path, port, options, service_args, desired_capabilities, service_log_path, chrome_options, keep_alive)\u001b[0m\n\u001b[1;32m     74\u001b[0m \u001b[0;34m\u001b[0m\u001b[0m\n\u001b[1;32m     75\u001b[0m         \u001b[0;32mtry\u001b[0m\u001b[0;34m:\u001b[0m\u001b[0;34m\u001b[0m\u001b[0;34m\u001b[0m\u001b[0m\n\u001b[0;32m---> 76\u001b[0;31m             RemoteWebDriver.__init__(\n\u001b[0m\u001b[1;32m     77\u001b[0m                 \u001b[0mself\u001b[0m\u001b[0;34m,\u001b[0m\u001b[0;34m\u001b[0m\u001b[0;34m\u001b[0m\u001b[0m\n\u001b[1;32m     78\u001b[0m                 command_executor=ChromeRemoteConnection(\n",
      "\u001b[0;32m~/opt/anaconda3/lib/python3.8/site-packages/selenium/webdriver/remote/webdriver.py\u001b[0m in \u001b[0;36m__init__\u001b[0;34m(self, command_executor, desired_capabilities, browser_profile, proxy, keep_alive, file_detector, options)\u001b[0m\n\u001b[1;32m    155\u001b[0m             warnings.warn(\"Please use FirefoxOptions to set browser profile\",\n\u001b[1;32m    156\u001b[0m                           DeprecationWarning, stacklevel=2)\n\u001b[0;32m--> 157\u001b[0;31m         \u001b[0mself\u001b[0m\u001b[0;34m.\u001b[0m\u001b[0mstart_session\u001b[0m\u001b[0;34m(\u001b[0m\u001b[0mcapabilities\u001b[0m\u001b[0;34m,\u001b[0m \u001b[0mbrowser_profile\u001b[0m\u001b[0;34m)\u001b[0m\u001b[0;34m\u001b[0m\u001b[0;34m\u001b[0m\u001b[0m\n\u001b[0m\u001b[1;32m    158\u001b[0m         \u001b[0mself\u001b[0m\u001b[0;34m.\u001b[0m\u001b[0m_switch_to\u001b[0m \u001b[0;34m=\u001b[0m \u001b[0mSwitchTo\u001b[0m\u001b[0;34m(\u001b[0m\u001b[0mself\u001b[0m\u001b[0;34m)\u001b[0m\u001b[0;34m\u001b[0m\u001b[0;34m\u001b[0m\u001b[0m\n\u001b[1;32m    159\u001b[0m         \u001b[0mself\u001b[0m\u001b[0;34m.\u001b[0m\u001b[0m_mobile\u001b[0m \u001b[0;34m=\u001b[0m \u001b[0mMobile\u001b[0m\u001b[0;34m(\u001b[0m\u001b[0mself\u001b[0m\u001b[0;34m)\u001b[0m\u001b[0;34m\u001b[0m\u001b[0;34m\u001b[0m\u001b[0m\n",
      "\u001b[0;32m~/opt/anaconda3/lib/python3.8/site-packages/selenium/webdriver/remote/webdriver.py\u001b[0m in \u001b[0;36mstart_session\u001b[0;34m(self, capabilities, browser_profile)\u001b[0m\n\u001b[1;32m    250\u001b[0m         parameters = {\"capabilities\": w3c_caps,\n\u001b[1;32m    251\u001b[0m                       \"desiredCapabilities\": capabilities}\n\u001b[0;32m--> 252\u001b[0;31m         \u001b[0mresponse\u001b[0m \u001b[0;34m=\u001b[0m \u001b[0mself\u001b[0m\u001b[0;34m.\u001b[0m\u001b[0mexecute\u001b[0m\u001b[0;34m(\u001b[0m\u001b[0mCommand\u001b[0m\u001b[0;34m.\u001b[0m\u001b[0mNEW_SESSION\u001b[0m\u001b[0;34m,\u001b[0m \u001b[0mparameters\u001b[0m\u001b[0;34m)\u001b[0m\u001b[0;34m\u001b[0m\u001b[0;34m\u001b[0m\u001b[0m\n\u001b[0m\u001b[1;32m    253\u001b[0m         \u001b[0;32mif\u001b[0m \u001b[0;34m'sessionId'\u001b[0m \u001b[0;32mnot\u001b[0m \u001b[0;32min\u001b[0m \u001b[0mresponse\u001b[0m\u001b[0;34m:\u001b[0m\u001b[0;34m\u001b[0m\u001b[0;34m\u001b[0m\u001b[0m\n\u001b[1;32m    254\u001b[0m             \u001b[0mresponse\u001b[0m \u001b[0;34m=\u001b[0m \u001b[0mresponse\u001b[0m\u001b[0;34m[\u001b[0m\u001b[0;34m'value'\u001b[0m\u001b[0;34m]\u001b[0m\u001b[0;34m\u001b[0m\u001b[0;34m\u001b[0m\u001b[0m\n",
      "\u001b[0;32m~/opt/anaconda3/lib/python3.8/site-packages/selenium/webdriver/remote/webdriver.py\u001b[0m in \u001b[0;36mexecute\u001b[0;34m(self, driver_command, params)\u001b[0m\n\u001b[1;32m    319\u001b[0m         \u001b[0mresponse\u001b[0m \u001b[0;34m=\u001b[0m \u001b[0mself\u001b[0m\u001b[0;34m.\u001b[0m\u001b[0mcommand_executor\u001b[0m\u001b[0;34m.\u001b[0m\u001b[0mexecute\u001b[0m\u001b[0;34m(\u001b[0m\u001b[0mdriver_command\u001b[0m\u001b[0;34m,\u001b[0m \u001b[0mparams\u001b[0m\u001b[0;34m)\u001b[0m\u001b[0;34m\u001b[0m\u001b[0;34m\u001b[0m\u001b[0m\n\u001b[1;32m    320\u001b[0m         \u001b[0;32mif\u001b[0m \u001b[0mresponse\u001b[0m\u001b[0;34m:\u001b[0m\u001b[0;34m\u001b[0m\u001b[0;34m\u001b[0m\u001b[0m\n\u001b[0;32m--> 321\u001b[0;31m             \u001b[0mself\u001b[0m\u001b[0;34m.\u001b[0m\u001b[0merror_handler\u001b[0m\u001b[0;34m.\u001b[0m\u001b[0mcheck_response\u001b[0m\u001b[0;34m(\u001b[0m\u001b[0mresponse\u001b[0m\u001b[0;34m)\u001b[0m\u001b[0;34m\u001b[0m\u001b[0;34m\u001b[0m\u001b[0m\n\u001b[0m\u001b[1;32m    322\u001b[0m             response['value'] = self._unwrap_value(\n\u001b[1;32m    323\u001b[0m                 response.get('value', None))\n",
      "\u001b[0;32m~/opt/anaconda3/lib/python3.8/site-packages/selenium/webdriver/remote/errorhandler.py\u001b[0m in \u001b[0;36mcheck_response\u001b[0;34m(self, response)\u001b[0m\n\u001b[1;32m    240\u001b[0m                 \u001b[0malert_text\u001b[0m \u001b[0;34m=\u001b[0m \u001b[0mvalue\u001b[0m\u001b[0;34m[\u001b[0m\u001b[0;34m'alert'\u001b[0m\u001b[0;34m]\u001b[0m\u001b[0;34m.\u001b[0m\u001b[0mget\u001b[0m\u001b[0;34m(\u001b[0m\u001b[0;34m'text'\u001b[0m\u001b[0;34m)\u001b[0m\u001b[0;34m\u001b[0m\u001b[0;34m\u001b[0m\u001b[0m\n\u001b[1;32m    241\u001b[0m             \u001b[0;32mraise\u001b[0m \u001b[0mexception_class\u001b[0m\u001b[0;34m(\u001b[0m\u001b[0mmessage\u001b[0m\u001b[0;34m,\u001b[0m \u001b[0mscreen\u001b[0m\u001b[0;34m,\u001b[0m \u001b[0mstacktrace\u001b[0m\u001b[0;34m,\u001b[0m \u001b[0malert_text\u001b[0m\u001b[0;34m)\u001b[0m\u001b[0;34m\u001b[0m\u001b[0;34m\u001b[0m\u001b[0m\n\u001b[0;32m--> 242\u001b[0;31m         \u001b[0;32mraise\u001b[0m \u001b[0mexception_class\u001b[0m\u001b[0;34m(\u001b[0m\u001b[0mmessage\u001b[0m\u001b[0;34m,\u001b[0m \u001b[0mscreen\u001b[0m\u001b[0;34m,\u001b[0m \u001b[0mstacktrace\u001b[0m\u001b[0;34m)\u001b[0m\u001b[0;34m\u001b[0m\u001b[0;34m\u001b[0m\u001b[0m\n\u001b[0m\u001b[1;32m    243\u001b[0m \u001b[0;34m\u001b[0m\u001b[0m\n\u001b[1;32m    244\u001b[0m     \u001b[0;32mdef\u001b[0m \u001b[0m_value_or_default\u001b[0m\u001b[0;34m(\u001b[0m\u001b[0mself\u001b[0m\u001b[0;34m,\u001b[0m \u001b[0mobj\u001b[0m\u001b[0;34m,\u001b[0m \u001b[0mkey\u001b[0m\u001b[0;34m,\u001b[0m \u001b[0mdefault\u001b[0m\u001b[0;34m)\u001b[0m\u001b[0;34m:\u001b[0m\u001b[0;34m\u001b[0m\u001b[0;34m\u001b[0m\u001b[0m\n",
      "\u001b[0;31mSessionNotCreatedException\u001b[0m: Message: session not created: This version of ChromeDriver only supports Chrome version 91\nCurrent browser version is 129.0.6668.71 with binary path /Applications/Google Chrome.app/Contents/MacOS/Google Chrome\n"
     ]
    }
   ],
   "source": [
    "All_company_of_sector_extractor('Tradings',5)\n",
    "\n"
   ]
  },
  {
   "cell_type": "markdown",
   "metadata": {},
   "source": [
    "\n",
    "        \n",
    "        "
   ]
  },
  {
   "cell_type": "code",
   "execution_count": null,
   "metadata": {},
   "outputs": [],
   "source": []
  }
 ],
 "metadata": {
  "kernelspec": {
   "display_name": "Python 3",
   "language": "python",
   "name": "python3"
  },
  "language_info": {
   "codemirror_mode": {
    "name": "ipython",
    "version": 3
   },
   "file_extension": ".py",
   "mimetype": "text/x-python",
   "name": "python",
   "nbconvert_exporter": "python",
   "pygments_lexer": "ipython3",
   "version": "3.8.8"
  }
 },
 "nbformat": 4,
 "nbformat_minor": 4
}
